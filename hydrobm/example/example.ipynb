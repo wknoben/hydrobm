{
 "cells": [
  {
   "cell_type": "markdown",
   "id": "742c2576-32cc-4e7a-b083-9b88ed986dc8",
   "metadata": {},
   "source": [
    "# HydroBM use example\n",
    "\n",
    "This folder contains example data obtained from the Caravan data set (Kratzert et al., 2023), and a script that shows how to run the HydroBM package for this test case. To reduce repository size only the \"total_precipitation_sum\", \"temperature_2m_mean\", and \"streamflow\" variables are retained in `camels_01022500_minimal.nc`.\n",
    "\n",
    "### Subsetting code\n",
    "```\n",
    "import numpy as np\n",
    "import xarray as xr\n",
    "\n",
    "# Load the data\n",
    "data_file = 'camels_01022500.nc'\n",
    "mini_file = 'camels_01022500_minimal.nc'\n",
    "\n",
    "data = xr.open_dataset(data_file)\n",
    "keep = ['date', 'streamflow', 'total_precipitation_sum', 'temperature_2m_mean']\n",
    "mini = data.drop_vars([var for var in data.variables if not var in keep])\n",
    "mask = np.isnan(mini['streamflow'])\n",
    "mini = mini.isel(date=~mask)\n",
    "mini.to_netcdf(mini_file)\n",
    "\n",
    "```\n",
    "\n",
    "#### References\n",
    "Kratzert, F., Nearing, G., Addor, N., Erickson, T., Gauch, M., Gilon, O., Gudmundsson, L., Hassidim, A., Klotz, D., Nevo, S., Shalev, G., and Matias, Y.: Caravan - A global community dataset for large-sample hydrology, Scientific Data, 10, 61, https://doi.org/10.1038/s41597- 023-01975-w, 2023."
   ]
  },
  {
   "cell_type": "code",
   "execution_count": null,
   "id": "83956102-4529-4550-b768-e0921e568baf",
   "metadata": {
    "tags": []
   },
   "outputs": [],
   "source": [
    "from hydrobm.calculate import calc_bm\n",
    "import matplotlib.pyplot as plt\n",
    "import numpy as np\n",
    "import xarray as xr"
   ]
  },
  {
   "cell_type": "code",
   "execution_count": null,
   "id": "82731184-d82d-4bc8-9d14-d36c7d3a753d",
   "metadata": {},
   "outputs": [],
   "source": [
    "# Get the example data\n",
    "data_file = './hydrobm/example/camels_01022500_minimal.nc'\n",
    "data = xr.open_dataset(data_file)"
   ]
  },
  {
   "cell_type": "markdown",
   "id": "c1770f15-1522-436a-b2c7-9cfe65780efc",
   "metadata": {
    "tags": []
   },
   "source": [
    "#### Create an exploratory plot\n",
    "This shows that snow likely plays a role in this basin."
   ]
  },
  {
   "cell_type": "code",
   "execution_count": null,
   "id": "a11c73ca-aac4-4e1d-b883-b4caba71dd97",
   "metadata": {
    "tags": []
   },
   "outputs": [],
   "source": [
    "fig,ax = plt.subplots(1,1)\n",
    "data['total_precipitation_sum'].plot(ax=ax, label='precipitation')\n",
    "data['streamflow'].plot(ax=ax, label='streamflow')\n",
    "data['temperature_2m_mean'].plot(ax=ax, label='temperature')\n",
    "plt.legend();"
   ]
  },
  {
   "cell_type": "markdown",
   "id": "befbb18a-9ead-44cf-b016-7e0ce191a58d",
   "metadata": {},
   "source": [
    "#### Run HydroBM\n",
    "For this example, we'll calculate all benchmarks and all metrics. This will trigger a warning, because the `annual_mean_flow` and `annual_median_flows` shouldn't be used in combination with a `val_mask`, but we'll accept that for this example."
   ]
  },
  {
   "cell_type": "code",
   "execution_count": null,
   "id": "1208f0eb-c0a6-4d0a-aeb5-b2d28e045693",
   "metadata": {
    "tags": []
   },
   "outputs": [],
   "source": [
    "# Specify the calculation and evaluation periods, as boolean masks\n",
    "cal_mask = data['date'].values < np.datetime64('1999-01-01')\n",
    "val_mask = ~cal_mask"
   ]
  },
  {
   "cell_type": "code",
   "execution_count": null,
   "id": "ec3a47b5-4cab-4e90-af50-c33cd8518ee1",
   "metadata": {
    "tags": []
   },
   "outputs": [],
   "source": [
    "# Specify the benchmarks and metrics to calculate\n",
    "benchmarks = [\n",
    "        # Streamflow benchmarks\n",
    "        \"mean_flow\",\n",
    "        \"median_flow\",\n",
    "        \"annual_mean_flow\",\n",
    "        \"annual_median_flow\",\n",
    "        \"monthly_mean_flow\",\n",
    "        \"monthly_median_flow\",\n",
    "        \"daily_mean_flow\",\n",
    "        \"daily_median_flow\",\n",
    "        # Long-term rainfall-runoff ratio benchmarks\n",
    "        \"rainfall_runoff_ratio_to_all\",\n",
    "        \"rainfall_runoff_ratio_to_annual\",\n",
    "        \"rainfall_runoff_ratio_to_monthly\",\n",
    "        \"rainfall_runoff_ratio_to_daily\",\n",
    "        \"rainfall_runoff_ratio_to_timestep\",\n",
    "        # Short-term rainfall-runoff ratio benchmarks\n",
    "        \"monthly_rainfall_runoff_ratio_to_monthly\",\n",
    "        \"monthly_rainfall_runoff_ratio_to_daily\",\n",
    "        \"monthly_rainfall_runoff_ratio_to_timestep\",\n",
    "        # Schaefli & Gupta (2007) benchmarks\n",
    "        \"scaled_precipitation_benchmark\",  # equivalent to \"rainfall_runoff_ratio_to_daily\"\n",
    "        \"adjusted_precipitation_benchmark\",\n",
    "        \"adjusted_smoothed_precipitation_benchmark\",\n",
    "    ]\n",
    "metrics = ['nse', 'kge', 'mse', 'rmse']"
   ]
  },
  {
   "cell_type": "code",
   "execution_count": null,
   "id": "982484d4-6d4d-4990-8726-abb1b4a32d80",
   "metadata": {
    "tags": []
   },
   "outputs": [],
   "source": [
    "# Calculate the benchmarks and scores\n",
    "benchmarks,scores = calc_bm(\n",
    "                data,\n",
    "                # Time period selection\n",
    "                cal_mask,\n",
    "                val_mask=val_mask,\n",
    "                # Variable names in 'data'\n",
    "                precipitation=\"total_precipitation_sum\",\n",
    "                streamflow=\"streamflow\",\n",
    "                # Benchmark choices\n",
    "                benchmarks=benchmarks,\n",
    "                metrics=metrics,\n",
    "                # Snow model inputs\n",
    "                calc_snowmelt=True,\n",
    "                temperature=\"temperature_2m_mean\",\n",
    "                snowmelt_threshold=0.0,\n",
    "                snowmelt_rate=3.0,\n",
    "            )"
   ]
  },
  {
   "cell_type": "markdown",
   "id": "8589760e-f356-4508-aa7a-7b8845351fbe",
   "metadata": {},
   "source": [
    "#### Analyze the results"
   ]
  },
  {
   "cell_type": "code",
   "execution_count": null,
   "id": "faf127e9-ab33-4b4d-b66c-f4e838cd4305",
   "metadata": {
    "tags": []
   },
   "outputs": [],
   "source": [
    "# Print the scores with some basic formatting applied\n",
    "for key,val in scores.items():\n",
    "    if key == 'benchmarks':\n",
    "        print(f'{key}: {val}')\n",
    "    else:\n",
    "        pm = [f'{num:.2f}' for num in val]\n",
    "        print(f'{key}: {pm}')"
   ]
  },
  {
   "cell_type": "markdown",
   "id": "5ebd5261-c8dd-432f-bbda-726491b622f2",
   "metadata": {},
   "source": [
    "Not very clear. Let's create some hydrographs as well."
   ]
  },
  {
   "cell_type": "code",
   "execution_count": null,
   "id": "c74d3205-2d23-4861-9f9d-3dc0f18891ce",
   "metadata": {
    "tags": []
   },
   "outputs": [],
   "source": [
    "# Select the four best benchmarks for plotting\n",
    "def top_n_indices_and_values(values_list, n=4):\n",
    "    arr = np.array(values_list) # numpy array\n",
    "    nan_idx = np.where(np.isnan(arr)) # find nan values\n",
    "    arr_sort = arr.argsort() # sort the full array, nans go at the end\n",
    "    arr_sort = arr_sort[~np.in1d(arr_sort, nan_idx)] # remove nans\n",
    "    indices = arr_sort[-n:] # get the top n indices\n",
    "    values = arr[indices] # get the values\n",
    "    return indices.tolist(), values.tolist()"
   ]
  },
  {
   "cell_type": "code",
   "execution_count": null,
   "id": "39f8a3fb-6d69-493a-a684-88edceb29037",
   "metadata": {
    "tags": []
   },
   "outputs": [],
   "source": [
    "idx,vals = top_n_indices_and_values(scores['kge_val'], 4)\n",
    "top_benchmarks = [scores['benchmarks'][id] for id in idx]\n",
    "top_kge_vals = [scores['kge_val'][id] for id in idx]"
   ]
  },
  {
   "cell_type": "code",
   "execution_count": null,
   "id": "c9d63142-2a4a-49ee-a54a-67ce5d71c2b2",
   "metadata": {
    "tags": []
   },
   "outputs": [],
   "source": [
    "# Print streamflow along with the four best benchmarks\n",
    "fig,ax = plt.subplots(4,1, figsize=(14,14))\n",
    "for i,(bm,kge) in enumerate(zip(top_benchmarks,top_kge_vals)):\n",
    "    data['streamflow'].plot(ax=ax[i], linewidth=2, label='streamflow')\n",
    "    benchmarks[f'bm_{bm}'].plot(ax=ax[i], label=bm)\n",
    "    ax[i].legend(loc='upper left')\n",
    "    ax[i].set_title(f'{bm} (KGE: {kge:.2f})')\n",
    "    ax[i].set_xlabel('') # drops 'Date'\n",
    "    \n",
    "plt.tight_layout()"
   ]
  },
  {
   "cell_type": "code",
   "execution_count": null,
   "id": "bc8e5613-ceaa-4e94-9f55-fa8338b94cea",
   "metadata": {},
   "outputs": [],
   "source": []
  }
 ],
 "metadata": {
  "kernelspec": {
   "display_name": "Python 3 (ipykernel)",
   "language": "python",
   "name": "python3"
  },
  "language_info": {
   "codemirror_mode": {
    "name": "ipython",
    "version": 3
   },
   "file_extension": ".py",
   "mimetype": "text/x-python",
   "name": "python",
   "nbconvert_exporter": "python",
   "pygments_lexer": "ipython3",
   "version": "3.11.5"
  }
 },
 "nbformat": 4,
 "nbformat_minor": 5
}
